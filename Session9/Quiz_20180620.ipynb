{
 "cells": [
  {
   "cell_type": "markdown",
   "metadata": {},
   "source": [
    "# 1. 위와 동일한 데이터프레임을 생성하세요"
   ]
  },
  {
   "cell_type": "code",
   "execution_count": 1,
   "metadata": {},
   "outputs": [
    {
     "name": "stdout",
     "output_type": "stream",
     "text": [
      "  col1    col2 col3\n",
      "0  A01  201501  100\n",
      "1  A02  201501  120\n",
      "2  A03  201501  140\n",
      "3  A04  201501  160\n",
      "4  A05  201501  180\n"
     ]
    }
   ],
   "source": [
    "import pandas as pd\n",
    "#딕셔너리를 활용한 데이터프레임 생성\n",
    "data = {'col1':['A01','A02','A03','A04','A05'],'col2':['201501','201501','201501','201501','201501'],'col3':['100','120','140','160','180']}\n",
    "dataFrame = pd.DataFrame(data)\n",
    "print(dataFrame)"
   ]
  }
 ],
 "metadata": {
  "kernelspec": {
   "display_name": "Python 3",
   "language": "python",
   "name": "python3"
  },
  "language_info": {
   "codemirror_mode": {
    "name": "ipython",
    "version": 3
   },
   "file_extension": ".py",
   "mimetype": "text/x-python",
   "name": "python",
   "nbconvert_exporter": "python",
   "pygments_lexer": "ipython3",
   "version": "3.6.4"
  }
 },
 "nbformat": 4,
 "nbformat_minor": 2
}
