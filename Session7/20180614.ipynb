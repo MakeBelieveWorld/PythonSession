{
 "cells": [
  {
   "cell_type": "markdown",
   "metadata": {},
   "source": [
    "# 데이터 불러오기 from web"
   ]
  },
  {
   "cell_type": "code",
   "execution_count": 1,
   "metadata": {
    "scrolled": false
   },
   "outputs": [
    {
     "name": "stdout",
     "output_type": "stream",
     "text": [
      "기상청 육상 중기예보\n",
      "이번 예보기간에는 고기압의 영향으로 대체로 맑은 날이 많겠습니다.  <br />기온은 평년(최저기온: 15~20도, 최고기온: 22~29도)과 전반에는 비슷하겠고, 후반에는 조금 높겠습니다.<br />강수량은 평년(3~19mm)보다 적겠습니다.\n"
     ]
    }
   ],
   "source": [
    "import requests, bs4, pandas as pd\n",
    "#웹페이지 html 소스 가져오기\n",
    "resp = requests.get('http://www.kma.go.kr/weather/forecast/mid-term-rss3.jsp')\n",
    "resp.encoding='utf-8'\n",
    "html = resp.text\n",
    "\n",
    "bs = bs4.BeautifulSoup(html, 'html.parser')\n",
    "\n",
    "# html 구조 태그로 가져오기\n",
    "title = bs.find(\"title\").text\n",
    "wf = bs.find(\"wf\").text\n",
    "print(title)\n",
    "print(wf)"
   ]
  },
  {
   "cell_type": "markdown",
   "metadata": {},
   "source": [
    "# 데이터 불러오기 1. 태그 찾기 -find"
   ]
  },
  {
   "cell_type": "code",
   "execution_count": 13,
   "metadata": {
    "scrolled": false
   },
   "outputs": [
    {
     "name": "stdout",
     "output_type": "stream",
     "text": [
      "<div class=\"class_py_quiz\" id=\"id_py_quiz\">\n",
      "<h1>Python 퀴즈 </h1>\n",
      "<a href=\"https://docs.google.com/forms/d/e/1FAIpQLScoGQuidGNCFerQZ6Dw5t6PndPPT62EvrncPLL3xLUfulRTyA/viewform?usp=sf_link\"> 6/14 파이썬 데이터 불러오기/저장하기 </a>\n",
      "<p></p>\n",
      "<a href=\"https://docs.google.com/forms/d/e/1FAIpQLSftZ-2VYfHB46FrwFG2HjbRDBtLSO0XP2BmiHh3iqwGoi3pQQ/viewform?usp=sf_link\"> 6/8 postgres 과제 </a>\n",
      "<p></p>\n",
      "<a href=\"https://docs.google.com/forms/d/e/1FAIpQLSeZBKjrZD1nAf4aAYhz_WEAqbzwPUPihgMEfXy74e0IMRwXKw/viewform?usp=sf_link\"> 6/8 파이썬 제어문 </a>\n",
      "<p></p>\n",
      "<a href=\"https://docs.google.com/forms/d/e/1FAIpQLSdvFbZGNm7rSGQO_daDSWHC8o1BNgZtIBajLaiOcvgV2iV0IA/viewform?usp=sf_link\"> 6/7 파이썬 자료형 </a>\n",
      "<p></p>\n",
      "<a href=\"https://docs.google.com/forms/d/e/1FAIpQLSehRuBYKpXNULxkamM8zVOd_mkFwZYwKtAp8Px0Kl0oCJbIeA/viewform?usp=sf_link\"> 5/31 파이썬 머신러닝 </a>\n",
      "<p></p>\n",
      "<a href=\"https://docs.google.com/forms/d/e/1FAIpQLSeVt843wk9MBxLj0N84q_8Vg4yL1jTrOygA5Cm3z-asPDY1sg/viewform?usp=sf_link\"> 5/24 파이썬 시작하기 </a>\n",
      "<p></p>\n",
      "</div>\n"
     ]
    }
   ],
   "source": [
    "import requests, bs4, pandas as pd, numpy as np\n",
    " \n",
    "#웹페이지 html 소스 가져오기\n",
    "resp = requests.get('http://13.209.33.89:3333/quiz')\n",
    "resp.encoding='utf-8'\n",
    "html = resp.text\n",
    "\n",
    "bs = bs4.BeautifulSoup(html, 'html.parser')\n",
    "\n",
    "# html 부분구조 가져오기\n",
    "find_tag = bs.find(\"div\")\n",
    "print(find_tag)\n"
   ]
  },
  {
   "cell_type": "markdown",
   "metadata": {},
   "source": [
    "# 데이터 불러오기 2. 속성찾기 "
   ]
  },
  {
   "cell_type": "code",
   "execution_count": 14,
   "metadata": {
    "scrolled": false
   },
   "outputs": [
    {
     "name": "stdout",
     "output_type": "stream",
     "text": [
      "<div class=\"class_db_quiz\" id=\"id_db_quiz\">\n",
      "<h1>데이터베이스 퀴즈 </h1>\n",
      "<a href=\"https://docs.google.com/forms/d/e/1FAIpQLSff5TjqUq9u-jRxYZvTdB7k-N0AEjx0_WSIcLZCBfFiEfoRUA/viewform?usp=sf_link\"> 6/12 오라클 Join 퀴즈 </a>\n",
      "<p></p>\n",
      "<a href=\"https://docs.google.com/forms/d/e/1FAIpQLScP3ojzBNFbKbTFq4r58GqqZODYom1d6jrn09rmdqT57uByVA/viewform?usp=sf_link\"> 6/5 오라클 GroupBy 퀴즈 </a>\n",
      "<p></p>\n",
      "<a href=\"https://docs.google.com/forms/d/e/1FAIpQLSfU5Pv_GQOLV-SkrDirOGt4GLDP3sZpy-UPY4zsud2ODPknbA/viewform?usp=sf_link\"> 5/29 오라클 숫자/날짜 및 고급함수 </a>\n",
      "<p></p>\n",
      "<a href=\"https://docs.google.com/forms/d/e/1FAIpQLSdFuYrwaYE6HEzQft21Icj_2yPyQqkcSabuvnaWwO47v99XmA/viewform?usp=sf_link\"> 5/15 오라클 데이터 조회(함수활용)  </a>\n",
      "<p></p>\n",
      "<a href=\"https://docs.google.com/forms/d/e/1FAIpQLSd8MAsXIKIteOM4OFCggUoYeOqC5aGI-2aQFLV8533HkbTz-w/viewform?usp=sf_link\"> 5/8 오라클 원격접속 및 조회 </a>\n",
      "<p></p>\n",
      "<a href=\"https://docs.google.com/forms/d/e/1FAIpQLSeYl0KM70XWhjnTIVLfqX5H5tp2V3jx2bwJMyZrTSeak2HZWw/viewform?usp=sf_link\"> 4/10 무결성 제약조건 </a>\n",
      "</div>\n"
     ]
    }
   ],
   "source": [
    "import requests, bs4, pandas as pd, numpy as np\n",
    " \n",
    "#웹페이지 html 소스 가져오기\n",
    "resp = requests.get('http://13.209.33.89:3333/quiz')\n",
    "resp.encoding='utf-8'\n",
    "html = resp.text\n",
    "\n",
    "bs = bs4.BeautifulSoup(html, 'html.parser')\n",
    "\n",
    "# html 태그 속성으로 찾기\n",
    "find_attr = bs.find(\"div\",{\"id\":\"id_db_quiz\"})\n",
    "print(find_attr)\n"
   ]
  },
  {
   "cell_type": "markdown",
   "metadata": {},
   "source": [
    "# 데이터 불러오기 3. 태그 내 Dom 부분구조"
   ]
  },
  {
   "cell_type": "code",
   "execution_count": 15,
   "metadata": {},
   "outputs": [
    {
     "name": "stdout",
     "output_type": "stream",
     "text": [
      "<a href=\"https://docs.google.com/forms/d/e/1FAIpQLSff5TjqUq9u-jRxYZvTdB7k-N0AEjx0_WSIcLZCBfFiEfoRUA/viewform?usp=sf_link\"> 6/12 오라클 Join 퀴즈 </a>\n"
     ]
    }
   ],
   "source": [
    "import requests, bs4, pandas as pd, numpy as np\n",
    " \n",
    "#웹페이지 html 소스 가져오기\n",
    "resp = requests.get('http://13.209.33.89:3333/quiz')\n",
    "resp.encoding='utf-8'\n",
    "html = resp.text\n",
    "\n",
    "bs = bs4.BeautifulSoup(html, 'html.parser')\n",
    "\n",
    "# html 부분구조 가져오기\n",
    "find_attr = bs.find(\"div\",{\"id\":\"id_db_quiz\"})\n",
    "find_part = find_attr.find(\"a\")\n",
    "print(find_part)"
   ]
  },
  {
   "cell_type": "markdown",
   "metadata": {},
   "source": [
    "# 데이터 불러오기 4. Dom구조 내 속성 찾기"
   ]
  },
  {
   "cell_type": "code",
   "execution_count": 16,
   "metadata": {},
   "outputs": [
    {
     "name": "stdout",
     "output_type": "stream",
     "text": [
      "https://docs.google.com/forms/d/e/1FAIpQLSff5TjqUq9u-jRxYZvTdB7k-N0AEjx0_WSIcLZCBfFiEfoRUA/viewform?usp=sf_link\n"
     ]
    }
   ],
   "source": [
    "import requests, bs4, pandas as pd, numpy as np\n",
    " \n",
    "#웹페이지 html 소스 가져오기\n",
    "resp = requests.get('http://13.209.33.89:3333/quiz')\n",
    "resp.encoding='utf-8'\n",
    "html = resp.text\n",
    "bs = bs4.BeautifulSoup(html, 'html.parser')\n",
    "# html 부분구조 가져오기\n",
    "find_part = bs.find(\"div\",{\"id\":\"id_db_quiz\"})\n",
    "# 링크내 속성 가져오기\n",
    "link = find_part.find(\"a\")\n",
    "print(find_part.find(\"a\").attrs['href'])"
   ]
  },
  {
   "cell_type": "markdown",
   "metadata": {},
   "source": [
    "# 데이터 불러오기 3. from web [select 편]"
   ]
  },
  {
   "cell_type": "code",
   "execution_count": 1,
   "metadata": {},
   "outputs": [
    {
     "name": "stdout",
     "output_type": "stream",
     "text": [
      "usd/krw=  1,087.80\n"
     ]
    },
    {
     "data": {
      "text/html": [
       "<div>\n",
       "<style scoped>\n",
       "    .dataframe tbody tr th:only-of-type {\n",
       "        vertical-align: middle;\n",
       "    }\n",
       "\n",
       "    .dataframe tbody tr th {\n",
       "        vertical-align: top;\n",
       "    }\n",
       "\n",
       "    .dataframe thead th {\n",
       "        text-align: right;\n",
       "    }\n",
       "</style>\n",
       "<table border=\"1\" class=\"dataframe\">\n",
       "  <thead>\n",
       "    <tr style=\"text-align: right;\">\n",
       "      <th></th>\n",
       "      <th>title</th>\n",
       "    </tr>\n",
       "  </thead>\n",
       "  <tbody>\n",
       "    <tr>\n",
       "      <th>0</th>\n",
       "      <td>1,087.80</td>\n",
       "    </tr>\n",
       "  </tbody>\n",
       "</table>\n",
       "</div>"
      ],
      "text/plain": [
       "      title\n",
       "0  1,087.80"
      ]
     },
     "execution_count": 1,
     "metadata": {},
     "output_type": "execute_result"
    }
   ],
   "source": [
    "import requests, bs4, pandas as pd, numpy as np\n",
    " \n",
    "#웹페이지 html 소스 가져오기\n",
    "resp = requests.get(\"http://finance.naver.com/marketindex/\")\n",
    "resp.encoding='utf-8'\n",
    "html = resp.text\n",
    "\n",
    "bs = bs4.BeautifulSoup(html, 'html.parser')\n",
    "\n",
    "# 데이터 추출하기\n",
    "price = bs.select_one(\"div.head_info > span.value\").string\n",
    "print(\"usd/krw= \", price)\n",
    "\n",
    "# 리스트 초기화 및 데이터 담기\n",
    "outList = []\n",
    "outList.append(price)\n",
    "\n",
    "# 리스트 pandas 데이터 프레임으로 변환 및 컬럼 정의\n",
    "outDf = pd.DataFrame(np.array(outList).reshape(1,1))\n",
    "outDf.columns = ['title']\n",
    "# CSV 파일로 저장, encondig 한글깨짐 방지\n",
    "#outDf.to_csv(\"../dataset/webData.csv\", encoding='utf-8-sig',index=False)\n",
    "outDf"
   ]
  },
  {
   "cell_type": "code",
   "execution_count": null,
   "metadata": {},
   "outputs": [],
   "source": []
  },
  {
   "cell_type": "code",
   "execution_count": null,
   "metadata": {},
   "outputs": [],
   "source": []
  },
  {
   "cell_type": "code",
   "execution_count": 8,
   "metadata": {},
   "outputs": [
    {
     "data": {
      "text/html": [
       "<div>\n",
       "<style scoped>\n",
       "    .dataframe tbody tr th:only-of-type {\n",
       "        vertical-align: middle;\n",
       "    }\n",
       "\n",
       "    .dataframe tbody tr th {\n",
       "        vertical-align: top;\n",
       "    }\n",
       "\n",
       "    .dataframe thead th {\n",
       "        text-align: right;\n",
       "    }\n",
       "</style>\n",
       "<table border=\"1\" class=\"dataframe\">\n",
       "  <thead>\n",
       "    <tr style=\"text-align: right;\">\n",
       "      <th></th>\n",
       "      <th>geo_name</th>\n",
       "      <th>longitude</th>\n",
       "      <th>latitude</th>\n",
       "      <th>Action</th>\n",
       "    </tr>\n",
       "  </thead>\n",
       "  <tbody>\n",
       "  </tbody>\n",
       "</table>\n",
       "</div>"
      ],
      "text/plain": [
       "Empty DataFrame\n",
       "Columns: [geo_name, longitude, latitude, Action]\n",
       "Index: []"
      ]
     },
     "execution_count": 8,
     "metadata": {},
     "output_type": "execute_result"
    }
   ],
   "source": [
    "import requests, bs4, pandas as pd, numpy as np\n",
    "\n",
    "#웹페이지 html 소스 가져오기\n",
    "resp = requests.get('http://13.209.33.89:3333/maps')\n",
    "resp.encoding='utf-8'\n",
    "html = resp.text\n",
    "bs = bs4.BeautifulSoup(html, 'html.parser')\n",
    "\n",
    "# html 부분구조 가져오기\n",
    "columns=bs.select('table > thead > tr > th')\n",
    "columns\n",
    "\n",
    "columnlist=[]\n",
    "for column in columns:\n",
    "    columnlist.append(column.text)\n",
    "df=pd.DataFrame(columns=columnlist)\n",
    "\n",
    "df\n",
    "\n"
   ]
  }
 ],
 "metadata": {
  "kernelspec": {
   "display_name": "Python 3",
   "language": "python",
   "name": "python3"
  },
  "language_info": {
   "codemirror_mode": {
    "name": "ipython",
    "version": 3
   },
   "file_extension": ".py",
   "mimetype": "text/x-python",
   "name": "python",
   "nbconvert_exporter": "python",
   "pygments_lexer": "ipython3",
   "version": "3.6.4"
  }
 },
 "nbformat": 4,
 "nbformat_minor": 2
}
