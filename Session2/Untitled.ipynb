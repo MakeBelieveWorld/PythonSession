{
 "cells": [
  {
   "cell_type": "code",
   "execution_count": 2,
   "metadata": {},
   "outputs": [
    {
     "ename": "NameError",
     "evalue": "name 'SEPALLENGTH' is not defined",
     "output_type": "error",
     "traceback": [
      "\u001b[1;31m---------------------------------------------------------------------------\u001b[0m",
      "\u001b[1;31mNameError\u001b[0m                                 Traceback (most recent call last)",
      "\u001b[1;32m<ipython-input-2-4f389f03ea52>\u001b[0m in \u001b[0;36m<module>\u001b[1;34m()\u001b[0m\n\u001b[0;32m     25\u001b[0m \u001b[1;33m\u001b[0m\u001b[0m\n\u001b[0;32m     26\u001b[0m \u001b[1;31m#concatenate labels to df as a new column\u001b[0m\u001b[1;33m\u001b[0m\u001b[1;33m\u001b[0m\u001b[0m\n\u001b[1;32m---> 27\u001b[1;33m \u001b[0mr\u001b[0m \u001b[1;33m=\u001b[0m \u001b[0mpd\u001b[0m\u001b[1;33m.\u001b[0m\u001b[0mconcat\u001b[0m\u001b[1;33m(\u001b[0m\u001b[1;33m[\u001b[0m\u001b[0mSEPALLENGTH\u001b[0m\u001b[1;33m,\u001b[0m \u001b[0mSEPALWIDTH\u001b[0m\u001b[1;33m,\u001b[0m \u001b[0mPETALLENGTH\u001b[0m \u001b[1;33m,\u001b[0m \u001b[0mPETALWIDTH\u001b[0m\u001b[1;33m]\u001b[0m\u001b[1;33m,\u001b[0m\u001b[0maxis\u001b[0m\u001b[1;33m=\u001b[0m\u001b[1;36m1\u001b[0m\u001b[1;33m)\u001b[0m\u001b[1;33m\u001b[0m\u001b[0m\n\u001b[0m\u001b[0;32m     28\u001b[0m \u001b[0mr\u001b[0m\u001b[1;33m.\u001b[0m\u001b[0mhead\u001b[0m\u001b[1;33m(\u001b[0m\u001b[1;33m)\u001b[0m\u001b[1;33m\u001b[0m\u001b[0m\n\u001b[0;32m     29\u001b[0m \u001b[1;33m\u001b[0m\u001b[0m\n",
      "\u001b[1;31mNameError\u001b[0m: name 'SEPALLENGTH' is not defined"
     ]
    }
   ],
   "source": [
    "# pandas 라이브러리\n",
    "import pandas as pd\n",
    "# 머신러닝 라이브러리\n",
    "from sklearn.cluster import KMeans\n",
    "# 시각화 라이브러리\n",
    "import matplotlib.pyplot as plt\n",
    "\n",
    "#CSV 파일을 읽어 Data Frame 변수에 저장하기\n",
    "IRisData = pd.read_csv(\"../dataset/IRIS.csv\")\n",
    "IRisData.head()\n",
    "\n",
    "species = IRisData[['SPECIES']]\n",
    "species.head()\n",
    "\n",
    "\n",
    "feature = IRisData[['PETALLENGTH','PETALWIDTH']]\n",
    "feature.head()\n",
    "\n",
    "#Create model and prediction\n",
    "model = KMeans(n_clusters=4,algorithm='auto')\n",
    "model.fit(feature)\n",
    "predict = pd.DataFrame(model.predict(feature))\n",
    "predict.columns=['PREDICT']\n",
    "predict.head()\n",
    "\n",
    "#concatenate labels to df as a new column\n",
    "r = pd.concat([SEPALLENGTH, SEPALWIDTH, PETALLENGTH , PETALWIDTH],axis=1)\n",
    "r.head()\n",
    "\n",
    "#scatter plot\n",
    "plt.scatter(r['DB'], r['AND'] , c=r['PREDICT'] , alpha=0.5)\n",
    "\n",
    "#plt.scatter(center_x,center_y, s=50, marker='D', c= 'r')\n",
    "plt.show()"
   ]
  }
 ],
 "metadata": {
  "kernelspec": {
   "display_name": "Python 3",
   "language": "python",
   "name": "python3"
  },
  "language_info": {
   "codemirror_mode": {
    "name": "ipython",
    "version": 3
   },
   "file_extension": ".py",
   "mimetype": "text/x-python",
   "name": "python",
   "nbconvert_exporter": "python",
   "pygments_lexer": "ipython3",
   "version": "3.6.4"
  }
 },
 "nbformat": 4,
 "nbformat_minor": 2
}
